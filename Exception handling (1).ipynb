{
 "cells": [
  {
   "cell_type": "markdown",
   "id": "e30e2ae1-b5eb-4d10-acf0-3773cc33c9b2",
   "metadata": {},
   "source": [
    "Q1 . What is Exception in Python? Write the differnce between Exception and Syntax Error.\n"
   ]
  },
  {
   "cell_type": "markdown",
   "id": "c8b20732-0cf7-404a-8e2e-e64dbb93704c",
   "metadata": {},
   "source": [
    "In Python, an exception is an error that occurs during the execution of a program. When an exception occurs, it disrupts the normal flow of the program's instructions. Exceptions can be caught and handled using try-except blocks, allowing the program to continue running or to fail gracefully."
   ]
  },
  {
   "cell_type": "code",
   "execution_count": 3,
   "id": "e66ad7cf-cb17-4c6d-8f30-3e1878a63c3e",
   "metadata": {},
   "outputs": [
    {
     "name": "stdout",
     "output_type": "stream",
     "text": [
      "division by zero\n"
     ]
    }
   ],
   "source": [
    "#Example for exception handling is \n",
    "try:\n",
    "    a = 10/0\n",
    "except ZeroDivisionError as e:\n",
    "    print(e)"
   ]
  },
  {
   "cell_type": "code",
   "execution_count": 4,
   "id": "94637102-6a59-4110-978c-ec66fac1c26c",
   "metadata": {},
   "outputs": [
    {
     "ename": "SyntaxError",
     "evalue": "expected ':' (881156104.py, line 2)",
     "output_type": "error",
     "traceback": [
      "\u001b[0;36m  Cell \u001b[0;32mIn[4], line 2\u001b[0;36m\u001b[0m\n\u001b[0;31m    if True\u001b[0m\n\u001b[0m           ^\u001b[0m\n\u001b[0;31mSyntaxError\u001b[0m\u001b[0;31m:\u001b[0m expected ':'\n"
     ]
    }
   ],
   "source": [
    "#Syntax Error is due to the error in the syntax of code for example given below the syntax.\n",
    "if True\n",
    "print(\"this is the syntax Error\")"
   ]
  },
  {
   "cell_type": "markdown",
   "id": "d03dea2c-732c-4ed6-b4bb-c5bf4bc2502e",
   "metadata": {},
   "source": [
    "Q2 . What happens when an exception is not handled? Explain with an example."
   ]
  },
  {
   "cell_type": "code",
   "execution_count": 5,
   "id": "1ef9b314-da5d-40b5-a824-f8f3312efb3e",
   "metadata": {},
   "outputs": [
    {
     "ename": "ZeroDivisionError",
     "evalue": "division by zero",
     "output_type": "error",
     "traceback": [
      "\u001b[0;31m---------------------------------------------------------------------------\u001b[0m",
      "\u001b[0;31mZeroDivisionError\u001b[0m                         Traceback (most recent call last)",
      "Cell \u001b[0;32mIn[5], line 2\u001b[0m\n\u001b[1;32m      1\u001b[0m \u001b[38;5;66;03m#When an exception is not handled in the program than there will no futher process take place i.e the program will show error in it no further output will be given as well as an error wil be shown there\u001b[39;00m\n\u001b[0;32m----> 2\u001b[0m result \u001b[38;5;241m=\u001b[39m \u001b[38;5;241;43m10\u001b[39;49m\u001b[38;5;241;43m/\u001b[39;49m\u001b[38;5;241;43m0\u001b[39;49m\n\u001b[1;32m      3\u001b[0m \u001b[38;5;28mprint\u001b[39m(result)\n",
      "\u001b[0;31mZeroDivisionError\u001b[0m: division by zero"
     ]
    }
   ],
   "source": [
    "#When an exception is not handled in the program than there will no futher process take place i.e the program will show error in it no further output will be given as well as an error wil be shown there\n",
    "result = 10/0\n",
    "print(result)"
   ]
  },
  {
   "cell_type": "markdown",
   "id": "31a57e23-b17d-4cb2-987b-545b1b69164a",
   "metadata": {},
   "source": [
    "Q3 . Which python statement is used to catch and handle exception? Explain with an example."
   ]
  },
  {
   "cell_type": "markdown",
   "id": "ec42107b-faa9-4905-bac1-35b3909866ee",
   "metadata": {},
   "source": [
    "In Python, the try and except statements are used to catch and handle exceptions. These statements allow you to specify a block of code to be executed, and if an exception occurs, the program will jump to the except block to handle the error instead of crashing."
   ]
  },
  {
   "cell_type": "code",
   "execution_count": 6,
   "id": "5f300e47-c0a5-4dde-9428-0b432378d7d3",
   "metadata": {},
   "outputs": [
    {
     "name": "stdout",
     "output_type": "stream",
     "text": [
      "this file was not found\n"
     ]
    }
   ],
   "source": [
    "try :\n",
    "    file = open(\"sachin.txt\",'r')\n",
    "    content = file.read()\n",
    "    print(content)\n",
    "except FileNotFoundError:\n",
    "    print(\"this file was not found\")"
   ]
  },
  {
   "cell_type": "markdown",
   "id": "13d02d34-e708-43eb-9493-487bd2784da1",
   "metadata": {},
   "source": [
    "Q4 . Explain with Example:\n",
    "a. try and else\n",
    "b. finally\n",
    "c. raise\n",
    "\n",
    "    "
   ]
  },
  {
   "cell_type": "markdown",
   "id": "003d5d7b-4468-4299-9938-c283c9c58375",
   "metadata": {},
   "source": [
    "Ans: try and else\n",
    "In Python, the try statement can be combined with an else clause. The else clause allows you to specify a block of code to be executed if no exceptions are raised in the try block. This can be useful for code that should only run when everything in the try block has executed successfully."
   ]
  },
  {
   "cell_type": "code",
   "execution_count": 7,
   "id": "bb203b5e-d0cf-4de4-9b13-31610161778f",
   "metadata": {},
   "outputs": [
    {
     "ename": "NameError",
     "evalue": "name 'ExceptionType' is not defined",
     "output_type": "error",
     "traceback": [
      "\u001b[0;31m---------------------------------------------------------------------------\u001b[0m",
      "\u001b[0;31mNameError\u001b[0m                                 Traceback (most recent call last)",
      "Cell \u001b[0;32mIn[7], line 3\u001b[0m\n\u001b[1;32m      1\u001b[0m \u001b[38;5;28;01mtry\u001b[39;00m:\n\u001b[1;32m      2\u001b[0m     \u001b[38;5;66;03m# Code that might raise an exception\u001b[39;00m\n\u001b[0;32m----> 3\u001b[0m     \u001b[43mrisky_code\u001b[49m()\n\u001b[1;32m      4\u001b[0m \u001b[38;5;28;01mexcept\u001b[39;00m ExceptionType:\n\u001b[1;32m      5\u001b[0m     \u001b[38;5;66;03m# Code to handle the exception\u001b[39;00m\n",
      "\u001b[0;31mNameError\u001b[0m: name 'risky_code' is not defined",
      "\nDuring handling of the above exception, another exception occurred:\n",
      "\u001b[0;31mNameError\u001b[0m                                 Traceback (most recent call last)",
      "Cell \u001b[0;32mIn[7], line 4\u001b[0m\n\u001b[1;32m      1\u001b[0m \u001b[38;5;28;01mtry\u001b[39;00m:\n\u001b[1;32m      2\u001b[0m     \u001b[38;5;66;03m# Code that might raise an exception\u001b[39;00m\n\u001b[1;32m      3\u001b[0m     risky_code()\n\u001b[0;32m----> 4\u001b[0m \u001b[38;5;28;01mexcept\u001b[39;00m \u001b[43mExceptionType\u001b[49m:\n\u001b[1;32m      5\u001b[0m     \u001b[38;5;66;03m# Code to handle the exception\u001b[39;00m\n\u001b[1;32m      6\u001b[0m     handle_exception()\n\u001b[1;32m      7\u001b[0m \u001b[38;5;28;01melse\u001b[39;00m:\n\u001b[1;32m      8\u001b[0m     \u001b[38;5;66;03m# Code to run if no exceptions were raised\u001b[39;00m\n",
      "\u001b[0;31mNameError\u001b[0m: name 'ExceptionType' is not defined"
     ]
    }
   ],
   "source": [
    "try:\n",
    "    # Code that might raise an exception\n",
    "    risky_code()\n",
    "except ExceptionType:\n",
    "    # Code to handle the exception\n",
    "    handle_exception()\n",
    "else:\n",
    "    # Code to run if no exceptions were raised\n",
    "    execute_if_no_exception()\n"
   ]
  },
  {
   "cell_type": "markdown",
   "id": "a189071c-9ee9-433d-8024-329ff2c03bf0",
   "metadata": {},
   "source": [
    "Ans: The finally block in Python is used to specify a section of code that will be executed regardless of whether an exception occurs or not. This is useful for cleanup actions that need to be performed after a try-except block, such as closing files or releasing resources."
   ]
  },
  {
   "cell_type": "code",
   "execution_count": 8,
   "id": "d834b7d4-ccf4-4f4c-bdb4-1be7911d9634",
   "metadata": {},
   "outputs": [
    {
     "ename": "NameError",
     "evalue": "name 'cleanup' is not defined",
     "output_type": "error",
     "traceback": [
      "\u001b[0;31m---------------------------------------------------------------------------\u001b[0m",
      "\u001b[0;31mNameError\u001b[0m                                 Traceback (most recent call last)",
      "Cell \u001b[0;32mIn[8], line 3\u001b[0m\n\u001b[1;32m      1\u001b[0m \u001b[38;5;28;01mtry\u001b[39;00m:\n\u001b[1;32m      2\u001b[0m     \u001b[38;5;66;03m# Code that might raise an exception\u001b[39;00m\n\u001b[0;32m----> 3\u001b[0m     \u001b[43mrisky_code\u001b[49m()\n\u001b[1;32m      4\u001b[0m \u001b[38;5;28;01mexcept\u001b[39;00m ExceptionType:\n\u001b[1;32m      5\u001b[0m     \u001b[38;5;66;03m# Code to handle the exception\u001b[39;00m\n",
      "\u001b[0;31mNameError\u001b[0m: name 'risky_code' is not defined",
      "\nDuring handling of the above exception, another exception occurred:\n",
      "\u001b[0;31mNameError\u001b[0m                                 Traceback (most recent call last)",
      "Cell \u001b[0;32mIn[8], line 4\u001b[0m\n\u001b[1;32m      3\u001b[0m     risky_code()\n\u001b[0;32m----> 4\u001b[0m \u001b[38;5;28;01mexcept\u001b[39;00m \u001b[43mExceptionType\u001b[49m:\n\u001b[1;32m      5\u001b[0m     \u001b[38;5;66;03m# Code to handle the exception\u001b[39;00m\n\u001b[1;32m      6\u001b[0m     handle_exception()\n",
      "\u001b[0;31mNameError\u001b[0m: name 'ExceptionType' is not defined",
      "\nDuring handling of the above exception, another exception occurred:\n",
      "\u001b[0;31mNameError\u001b[0m                                 Traceback (most recent call last)",
      "Cell \u001b[0;32mIn[8], line 9\u001b[0m\n\u001b[1;32m      6\u001b[0m     handle_exception()\n\u001b[1;32m      7\u001b[0m \u001b[38;5;28;01mfinally\u001b[39;00m:\n\u001b[1;32m      8\u001b[0m     \u001b[38;5;66;03m# Code that will always execute\u001b[39;00m\n\u001b[0;32m----> 9\u001b[0m     \u001b[43mcleanup\u001b[49m()\n",
      "\u001b[0;31mNameError\u001b[0m: name 'cleanup' is not defined"
     ]
    }
   ],
   "source": [
    "try:\n",
    "    # Code that might raise an exception\n",
    "    risky_code()\n",
    "except ExceptionType:\n",
    "    # Code to handle the exception\n",
    "    handle_exception()\n",
    "finally:\n",
    "    # Code that will always execute\n",
    "    cleanup()\n"
   ]
  },
  {
   "cell_type": "markdown",
   "id": "88519bb6-d878-493b-87f7-034093675b29",
   "metadata": {},
   "source": [
    "The raise statement in Python is used to explicitly raise an exception. This can be useful when you want to trigger an exception deliberately under certain conditions, allowing you to signal errors or other exceptional conditions."
   ]
  },
  {
   "cell_type": "code",
   "execution_count": null,
   "id": "9a285ad7-a9b8-4802-9d45-41c6e1c41e9e",
   "metadata": {},
   "outputs": [],
   "source": [
    "raise ExceptionType(\"Error message\")\n"
   ]
  },
  {
   "cell_type": "markdown",
   "id": "8f001371-9f71-4fb7-958f-c7a794cd4f8d",
   "metadata": {},
   "source": [
    "Q5 . What are custom Exception in python?Why do we need Custom Exception?Explain with an example."
   ]
  },
  {
   "cell_type": "markdown",
   "id": "fa12bd68-4ff2-4bfe-8456-481170567e40",
   "metadata": {},
   "source": [
    "Custom exceptions in Python are user-defined exceptions that extend the built-in Exception class. They are useful for representing specific error conditions that are relevant to your application or domain. Custom exceptions make your code more readable and maintainable by providing meaningful names for exceptional conditions and allowing more precise handling of errors.\n",
    "Clarity and Readability: Custom exceptions provide a clear indication of the specific error condition that has occurred. Instead of using a generic exception, a custom exception with a descriptive name makes it clear what went wrong.\n",
    "Separation of Concerns: Custom exceptions allow you to separate error handling logic for different types of errors. This makes your code more modular and easier to maintain.\n",
    "Specific Handling: With custom exceptions, you can handle specific errors differently, allowing for more precise control over the flow of the program.\n",
    "Enhanced Debugging: Custom exceptions can carry additional information about the error, making it easier to debug and resolve issues."
   ]
  }
 ],
 "metadata": {
  "kernelspec": {
   "display_name": "Python 3 (ipykernel)",
   "language": "python",
   "name": "python3"
  },
  "language_info": {
   "codemirror_mode": {
    "name": "ipython",
    "version": 3
   },
   "file_extension": ".py",
   "mimetype": "text/x-python",
   "name": "python",
   "nbconvert_exporter": "python",
   "pygments_lexer": "ipython3",
   "version": "3.10.8"
  }
 },
 "nbformat": 4,
 "nbformat_minor": 5
}
